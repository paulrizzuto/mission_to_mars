{
 "cells": [
  {
   "cell_type": "code",
   "execution_count": 1,
   "metadata": {
    "collapsed": true
   },
   "outputs": [],
   "source": [
    "import pandas as pd\n",
    "import numpy as np\n",
    "import requests\n",
    "from bs4 import BeautifulSoup"
   ]
  },
  {
   "cell_type": "markdown",
   "metadata": {},
   "source": [
    "## NASA Mars News"
   ]
  },
  {
   "cell_type": "code",
   "execution_count": 2,
   "metadata": {
    "collapsed": true
   },
   "outputs": [],
   "source": [
    "news_title = \"NASA's Next Mars Mission to Investigate Interior of Red Planet\"\n",
    "news_p = \"Preparation of NASA's next spacecraft to Mars, InSight, has ramped up this summer, on course for launch next May from Vandenberg Air Force Base in central California -- the first interplanetary launch in history from America's West Coast.\""
   ]
  },
  {
   "cell_type": "code",
   "execution_count": 2,
   "metadata": {
    "collapsed": true
   },
   "outputs": [],
   "source": [
    "page = requests.get(\"https://mars.nasa.gov/news/\")\n",
    "soup = BeautifulSoup(page.text, 'html.parser')"
   ]
  },
  {
   "cell_type": "code",
   "execution_count": 3,
   "metadata": {},
   "outputs": [
    {
     "name": "stdout",
     "output_type": "stream",
     "text": [
      "\n",
      "On a part of \"Vera Rubin Ridge\" where rover-team researchers sought to determine whether dust coatings are hiding rocks' hematite content, the Mast Camera (Mastcam) on NASA's Curiosity Mars rover took this image of a rock surface that had been brushed with the rover's Dust Removal Tool.\n",
      "\n"
     ]
    }
   ],
   "source": [
    "news_text = soup.find(\"div\", \"rollover_description_inner\").string\n",
    "print(news_text)"
   ]
  },
  {
   "cell_type": "code",
   "execution_count": 4,
   "metadata": {},
   "outputs": [
    {
     "name": "stdout",
     "output_type": "stream",
     "text": [
      "\n",
      "Martian Ridge Brings Out Rover's Color Talents\n",
      "\n"
     ]
    }
   ],
   "source": [
    "news_title = soup.find(\"div\", \"content_title\", \"a\").contents[1].string\n",
    "print(news_title)"
   ]
  },
  {
   "cell_type": "markdown",
   "metadata": {},
   "source": [
    "## JPL Mars Space Images - Featured Image"
   ]
  },
  {
   "cell_type": "code",
   "execution_count": 69,
   "metadata": {},
   "outputs": [],
   "source": [
    "from splinter import Browser\n",
    "executable_path = {'executable_path':'chromedriver'}\n",
    "\n",
    "browser = Browser('chrome', **executable_path) \n",
    "# Visit URL\n",
    "url = \"https://www.jpl.nasa.gov/spaceimages/?search=&category=Mars\"\n",
    "browser.visit(url)\n",
    "    #browser.fill('q', 'splinter - python acceptance testing for web applications')\n",
    "    # Find and click the 'search' button\n",
    "button = browser.find_by_id(\"full_image\")\n",
    "    # Interact with elements\n",
    "button.click()\n",
    "    #button = browser.find_by_name('more_info')\n",
    "current_url = browser.url\n",
    "\n",
    "button_2 = browser.find_by_id(\"fancybox-loading\")\n",
    "    # Interact with elements\n",
    "button_2.click()\n",
    "\n",
    "#for item in test:\n",
    "    \n",
    "\n",
    "#browser.quit()"
   ]
  },
  {
   "cell_type": "code",
   "execution_count": 15,
   "metadata": {
    "collapsed": true
   },
   "outputs": [],
   "source": [
    "page = requests.get(\"https://www.jpl.nasa.gov/spaceimages/?search=&category=Mars\")\n",
    "soup = BeautifulSoup(page.text, 'html.parser')"
   ]
  },
  {
   "cell_type": "code",
   "execution_count": 74,
   "metadata": {},
   "outputs": [
    {
     "data": {
      "text/plain": [
       "'https://www.jpl.nasa.gov/spaceimages/images/wallpaper/PIA18048-1920x1200.jpg'"
      ]
     },
     "execution_count": 74,
     "metadata": {},
     "output_type": "execute_result"
    }
   ],
   "source": [
    "test = soup.find(\"div\", class_=\"carousel_items\").contents[1]\n",
    "item = test[\"style\"].split(\"url('\")\n",
    "link = item[1].split(\"');\")[0]\n",
    "link = \"https://www.jpl.nasa.gov\" + link\n",
    "link\n",
    "\n"
   ]
  },
  {
   "cell_type": "markdown",
   "metadata": {},
   "source": [
    "## Mars Weather"
   ]
  },
  {
   "cell_type": "code",
   "execution_count": 6,
   "metadata": {
    "collapsed": true
   },
   "outputs": [],
   "source": [
    "page = requests.get(\"https://twitter.com/marswxreport?lang=en\")\n",
    "soup = BeautifulSoup(page.text, 'html.parser')"
   ]
  },
  {
   "cell_type": "code",
   "execution_count": 9,
   "metadata": {},
   "outputs": [
    {
     "name": "stdout",
     "output_type": "stream",
     "text": [
      "Sol 1858 (Oct 28, 2017), Sunny, high -28C/-18F, low -81C/-113F, pressure at 8.57 hPa, daylight 05:57-17:40\n"
     ]
    }
   ],
   "source": [
    "tweet_text = soup.find(\"p\", \"TweetTextSize\").string\n",
    "print(tweet_text)"
   ]
  },
  {
   "cell_type": "markdown",
   "metadata": {},
   "source": [
    "## Mars Facts"
   ]
  },
  {
   "cell_type": "code",
   "execution_count": 10,
   "metadata": {
    "collapsed": true
   },
   "outputs": [],
   "source": [
    "page = requests.get(\"https://space-facts.com/mars/\")\n",
    "soup = BeautifulSoup(page.text, 'html.parser')"
   ]
  },
  {
   "cell_type": "code",
   "execution_count": 39,
   "metadata": {},
   "outputs": [
    {
     "name": "stdout",
     "output_type": "stream",
     "text": [
      "Equatorial Diameter:\n",
      "Polar Diameter:\n",
      "Mass:\n",
      "Moons:\n",
      "Orbit Distance:\n",
      "Orbit Period:\n",
      "Surface Temperature: \n",
      "First Record:\n",
      "Recorded By:\n"
     ]
    }
   ],
   "source": [
    "category_list = []\n",
    "\n",
    "categories = soup.find_all(\"td\", \"column-1\")\n",
    "\n",
    "for item in categories:\n",
    "    print(item.string)\n",
    "    category_list.append(item.string)"
   ]
  },
  {
   "cell_type": "code",
   "execution_count": 69,
   "metadata": {},
   "outputs": [
    {
     "name": "stdout",
     "output_type": "stream",
     "text": [
      "6,792 km\n",
      "\n",
      "6,752 km\n",
      "\n",
      "6.42 x 10^23 kg (10.7% Earth)\n",
      "2 (Phobos & Deimos)\n",
      "227,943,824 km (1.52 AU)\n",
      "687 days (1.9 years)\n",
      "\n",
      "-153 to 20 °C\n",
      "2nd millennium BC\n",
      "Egyptian astronomers\n"
     ]
    },
    {
     "data": {
      "text/plain": [
       "['6,792 km',\n",
       " '6,752 km',\n",
       " '6.42 x 10^23 kg (10.7% Earth)',\n",
       " '2 (Phobos & Deimos)',\n",
       " '227,943,824 km (1.52 AU)',\n",
       " '687 days (1.9 years)',\n",
       " '-153 to 20 °C',\n",
       " '2nd millennium BC',\n",
       " 'Egyptian astronomers']"
      ]
     },
     "execution_count": 69,
     "metadata": {},
     "output_type": "execute_result"
    }
   ],
   "source": [
    "facts_list = []\n",
    "\n",
    "facts = soup.find_all(\"td\", \"column-2\")\n",
    "\n",
    "for item in facts:\n",
    "    print(item.text)\n",
    "    facts_list.append(item.text.rstrip('\\n'))\n",
    "    \n",
    "facts_list"
   ]
  },
  {
   "cell_type": "code",
   "execution_count": 75,
   "metadata": {},
   "outputs": [
    {
     "data": {
      "text/html": [
       "<div>\n",
       "<style>\n",
       "    .dataframe thead tr:only-child th {\n",
       "        text-align: right;\n",
       "    }\n",
       "\n",
       "    .dataframe thead th {\n",
       "        text-align: left;\n",
       "    }\n",
       "\n",
       "    .dataframe tbody tr th {\n",
       "        vertical-align: top;\n",
       "    }\n",
       "</style>\n",
       "<table border=\"1\" class=\"dataframe\">\n",
       "  <thead>\n",
       "    <tr style=\"text-align: right;\">\n",
       "      <th></th>\n",
       "      <th>values</th>\n",
       "    </tr>\n",
       "    <tr>\n",
       "      <th>description</th>\n",
       "      <th></th>\n",
       "    </tr>\n",
       "  </thead>\n",
       "  <tbody>\n",
       "    <tr>\n",
       "      <th>Equatorial Diameter:</th>\n",
       "      <td>6,792 km</td>\n",
       "    </tr>\n",
       "    <tr>\n",
       "      <th>Polar Diameter:</th>\n",
       "      <td>6,752 km</td>\n",
       "    </tr>\n",
       "    <tr>\n",
       "      <th>Mass:</th>\n",
       "      <td>6.42 x 10^23 kg (10.7% Earth)</td>\n",
       "    </tr>\n",
       "    <tr>\n",
       "      <th>Moons:</th>\n",
       "      <td>2 (Phobos &amp; Deimos)</td>\n",
       "    </tr>\n",
       "    <tr>\n",
       "      <th>Orbit Distance:</th>\n",
       "      <td>227,943,824 km (1.52 AU)</td>\n",
       "    </tr>\n",
       "    <tr>\n",
       "      <th>Orbit Period:</th>\n",
       "      <td>687 days (1.9 years)</td>\n",
       "    </tr>\n",
       "    <tr>\n",
       "      <th>Surface Temperature:</th>\n",
       "      <td>-153 to 20 °C</td>\n",
       "    </tr>\n",
       "    <tr>\n",
       "      <th>First Record:</th>\n",
       "      <td>2nd millennium BC</td>\n",
       "    </tr>\n",
       "    <tr>\n",
       "      <th>Recorded By:</th>\n",
       "      <td>Egyptian astronomers</td>\n",
       "    </tr>\n",
       "  </tbody>\n",
       "</table>\n",
       "</div>"
      ],
      "text/plain": [
       "                                              values\n",
       "description                                         \n",
       "Equatorial Diameter:                        6,792 km\n",
       "Polar Diameter:                             6,752 km\n",
       "Mass:                  6.42 x 10^23 kg (10.7% Earth)\n",
       "Moons:                           2 (Phobos & Deimos)\n",
       "Orbit Distance:             227,943,824 km (1.52 AU)\n",
       "Orbit Period:                   687 days (1.9 years)\n",
       "Surface Temperature:                   -153 to 20 °C\n",
       "First Record:                      2nd millennium BC\n",
       "Recorded By:                    Egyptian astronomers"
      ]
     },
     "execution_count": 75,
     "metadata": {},
     "output_type": "execute_result"
    }
   ],
   "source": [
    "mars_facts = pd.DataFrame({\"description\": category_list, \"values\": facts_list})\n",
    "mars_facts.set_index(\"description\")"
   ]
  },
  {
   "cell_type": "code",
   "execution_count": 76,
   "metadata": {
    "collapsed": true
   },
   "outputs": [],
   "source": [
    "#to html"
   ]
  },
  {
   "cell_type": "markdown",
   "metadata": {},
   "source": [
    "## Mars Hemispheres"
   ]
  },
  {
   "cell_type": "code",
   "execution_count": 142,
   "metadata": {
    "collapsed": true
   },
   "outputs": [],
   "source": [
    "hemisphere_image_urls = []"
   ]
  },
  {
   "cell_type": "code",
   "execution_count": 143,
   "metadata": {
    "collapsed": true
   },
   "outputs": [],
   "source": [
    "from splinter import Browser\n",
    "executable_path = {'executable_path':'chromedriver'}\n",
    "\n",
    "browser = Browser('chrome', **executable_path) \n",
    "# Visit URL\n",
    "url = \"https://astrogeology.usgs.gov/search/results?q=hemisphere+enhanced&k1=target&v1=Mars\"\n",
    "browser.visit(url)\n",
    "\n",
    "#valles marineris\n",
    "button = browser.find_link_by_partial_href(\"valles_marineris\")\n",
    "\n",
    "# Interact with elements\n",
    "button.click()\n",
    "\n",
    "#gather info\n",
    "current_url = browser.url\n",
    "page = requests.get(current_url)\n",
    "soup = BeautifulSoup(page.text, 'html.parser')\n",
    "\n",
    "image_url = soup.find(id = \"wide-image\").contents[3]\n",
    "title = soup.find(\"h2\").string\n",
    "\n",
    "info = {\"title\": title, \"img_url\": \"https://astrogeology.usgs.gov\" + image_url['src']}\n",
    "hemisphere_image_urls.append(info)\n",
    "#links.append(\"https://astrogeology.usgs.gov\" + image_url['src'])\n",
    "\n",
    "#go back\n",
    "browser.back()\n",
    "\n",
    "#cerberus\n",
    "button = browser.find_link_by_partial_href(\"cerberus\")\n",
    "\n",
    "# Interact with elements\n",
    "button.click()\n",
    "\n",
    "#gather info\n",
    "current_url = browser.url\n",
    "page = requests.get(current_url)\n",
    "soup = BeautifulSoup(page.text, 'html.parser')\n",
    "\n",
    "image_url = soup.find(id = \"wide-image\").contents[3]\n",
    "title = soup.find(\"h2\").string\n",
    "\n",
    "info = {\"title\": title, \"img_url\": \"https://astrogeology.usgs.gov\" + image_url['src']}\n",
    "hemisphere_image_urls.append(info)\n",
    "\n",
    "#go back\n",
    "browser.back()\n",
    "\n",
    "#schiaparelli\n",
    "button = browser.find_link_by_partial_href(\"schiaparelli\")\n",
    "\n",
    "# Interact with elements\n",
    "button.click()\n",
    "\n",
    "#gather info\n",
    "current_url = browser.url\n",
    "page = requests.get(current_url)\n",
    "soup = BeautifulSoup(page.text, 'html.parser')\n",
    "\n",
    "image_url = soup.find(id = \"wide-image\").contents[3]\n",
    "title = soup.find(\"h2\").string\n",
    "\n",
    "info = {\"title\": title, \"img_url\": \"https://astrogeology.usgs.gov\" + image_url['src']}\n",
    "hemisphere_image_urls.append(info)\n",
    "\n",
    "#go back\n",
    "browser.back()\n",
    "\n",
    "#syrtis major\n",
    "button = browser.find_link_by_partial_href(\"syrtis_major\")\n",
    "# Interact with elements\n",
    "button.click()\n",
    "\n",
    "#gather info\n",
    "current_url = browser.url\n",
    "page = requests.get(current_url)\n",
    "soup = BeautifulSoup(page.text, 'html.parser')\n",
    "\n",
    "image_url = soup.find(id = \"wide-image\").contents[3]\n",
    "title = soup.find(\"h2\").string\n",
    "\n",
    "info = {\"title\": title, \"img_url\": \"https://astrogeology.usgs.gov\" + image_url['src']}\n",
    "hemisphere_image_urls.append(info)\n",
    "\n",
    "browser.quit()\n",
    "\n",
    "#print(test)"
   ]
  },
  {
   "cell_type": "code",
   "execution_count": 144,
   "metadata": {},
   "outputs": [
    {
     "data": {
      "text/plain": [
       "[{'img_url': 'https://astrogeology.usgs.gov/cache/images/7cf2da4bf549ed01c17f206327be4db7_valles_marineris_enhanced.tif_full.jpg',\n",
       "  'title': 'Valles Marineris Hemisphere Enhanced'},\n",
       " {'img_url': 'https://astrogeology.usgs.gov/cache/images/cfa62af2557222a02478f1fcd781d445_cerberus_enhanced.tif_full.jpg',\n",
       "  'title': 'Cerberus Hemisphere Enhanced'},\n",
       " {'img_url': 'https://astrogeology.usgs.gov/cache/images/3cdd1cbf5e0813bba925c9030d13b62e_schiaparelli_enhanced.tif_full.jpg',\n",
       "  'title': 'Schiaparelli Hemisphere Enhanced'},\n",
       " {'img_url': 'https://astrogeology.usgs.gov/cache/images/ae209b4e408bb6c3e67b6af38168cf28_syrtis_major_enhanced.tif_full.jpg',\n",
       "  'title': 'Syrtis Major Hemisphere Enhanced'}]"
      ]
     },
     "execution_count": 144,
     "metadata": {},
     "output_type": "execute_result"
    }
   ],
   "source": [
    "hemisphere_image_urls"
   ]
  },
  {
   "cell_type": "code",
   "execution_count": null,
   "metadata": {
    "collapsed": true
   },
   "outputs": [],
   "source": []
  },
  {
   "cell_type": "code",
   "execution_count": null,
   "metadata": {
    "collapsed": true
   },
   "outputs": [],
   "source": []
  },
  {
   "cell_type": "code",
   "execution_count": null,
   "metadata": {
    "collapsed": true
   },
   "outputs": [],
   "source": []
  },
  {
   "cell_type": "code",
   "execution_count": null,
   "metadata": {
    "collapsed": true
   },
   "outputs": [],
   "source": []
  }
 ],
 "metadata": {
  "kernelspec": {
   "display_name": "Python [conda env:PythonData]",
   "language": "python",
   "name": "conda-env-PythonData-py"
  },
  "language_info": {
   "codemirror_mode": {
    "name": "ipython",
    "version": 3
   },
   "file_extension": ".py",
   "mimetype": "text/x-python",
   "name": "python",
   "nbconvert_exporter": "python",
   "pygments_lexer": "ipython3",
   "version": "3.6.1"
  }
 },
 "nbformat": 4,
 "nbformat_minor": 2
}
